{
 "cells": [
  {
   "cell_type": "code",
   "execution_count": null,
   "id": "1c98c8bc",
   "metadata": {},
   "outputs": [],
   "source": [
    "import turtle\n",
    "import numpy as np\n",
    "\n",
    "\n",
    "def main(speed=0, bg_color=\"grey\"):\n",
    "    # create Turtle object\n",
    "    turtle_screen = turtle.Screen()\n",
    "    myTurtle = turtle.Turtle()\n",
    "    \n",
    "    # set speed to 'fastest = 0'\n",
    "    myTurtle.speed(speed)\n",
    "    # change background color\n",
    "    turtle_screen.bgcolor(bg_color)\n",
    "  \n",
    " \n",
    "    \"\"\"TODO: define different colors here\"\"\"\n",
    "\n",
    "\n",
    "    for _ in range(10):\n",
    "        # define some params\n",
    "        size = 18\n",
    "        pos = [np.random.randint(-300, 300), np.random.randint(-300, 300)]\n",
    "\n",
    "        \"\"\"TODO: set snowflake color here (one of the colors defined above)\"\"\"\n",
    "\n",
    "        # Go to the start position of the snowflake\n",
    "        myTurtle.penup()\n",
    "        myTurtle.goto(pos[0], pos[1])\n",
    "        myTurtle.pendown()\n",
    "\n",
    "        # draw the snowflake\n",
    "        for _ in range(8):\n",
    "            snowflake_branch(size, myTurtle)\n",
    "            myTurtle.left(45)\n",
    "\n",
    "\n",
    "def snowflake_branch(size, myTurtle):\n",
    "    # This function draws one branch of the snowflake.\n",
    "    for _ in range(3):\n",
    "        for _ in range(3):\n",
    "            myTurtle.forward(size / 3)\n",
    "            myTurtle.backward(size / 3)\n",
    "            myTurtle.right(45)\n",
    "        myTurtle.left(90)\n",
    "        myTurtle.backward(size / 3)\n",
    "        myTurtle.left(45)\n",
    "    myTurtle.right(90)\n",
    "    myTurtle.forward(size)\n",
    "\n",
    "\n",
    "if __name__ == \"__main__\":\n",
    "    main()\n",
    "\n"
   ]
  }
 ],
 "metadata": {
  "kernelspec": {
   "display_name": "Python 3 (ipykernel)",
   "language": "python",
   "name": "python3"
  },
  "language_info": {
   "codemirror_mode": {
    "name": "ipython",
    "version": 3
   },
   "file_extension": ".py",
   "mimetype": "text/x-python",
   "name": "python",
   "nbconvert_exporter": "python",
   "pygments_lexer": "ipython3",
   "version": "3.9.7"
  }
 },
 "nbformat": 4,
 "nbformat_minor": 5
}
